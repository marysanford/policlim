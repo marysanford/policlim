{
 "cells": [
  {
   "cell_type": "code",
   "execution_count": 1,
   "id": "429d1940-f779-4ca1-b85d-b5a5b2118df9",
   "metadata": {},
   "outputs": [],
   "source": [
    "import pandas as pd, numpy as np\n",
    "import re, glob"
   ]
  },
  {
   "cell_type": "markdown",
   "id": "2be0a9ea-ab7c-46e6-9b14-27646a43beef",
   "metadata": {},
   "source": [
    "### read in csv files with manifestos"
   ]
  },
  {
   "cell_type": "code",
   "execution_count": 2,
   "id": "7b0b544a-8f55-408d-a85c-0f3782769c9f",
   "metadata": {},
   "outputs": [],
   "source": [
    "eu = [\n",
    "    \"Austria\", \"Belgium\", \"Bulgaria\",\"Croatia\",\"Cyprus\",\"Czech Republic\",\"Denmark\",\"Estonia\",\"Finland\",\"France\",\"Germany\",\n",
    "    \"Greece\",\"Hungary\",\"Ireland\",\"Italy\",\"Latvia\",\"Lithuania\",\"Luxembourg\",\"Malta\",\n",
    "    \"Netherlands\",\"Poland\",\"Portugal\",\"Romania\",\"Slovakia\",\"Slovenia\",\"Spain\",\"Sweden\",'United Kingdom']"
   ]
  },
  {
   "cell_type": "code",
   "execution_count": 3,
   "id": "eae8dd16-27c2-4373-89ef-c7be75e8256e",
   "metadata": {},
   "outputs": [
    {
     "name": "stdout",
     "output_type": "stream",
     "text": [
      "Austria\n",
      "45387\n",
      "Sweden\n",
      "17387\n",
      "Estonia\n",
      "16813\n",
      "Slovenia\n",
      "40029\n",
      "Croatia\n",
      "31161\n",
      "Italy\n",
      "22702\n",
      "Cyprus\n",
      "12655\n",
      "Portugal\n",
      "48184\n",
      "Netherlands\n",
      "132586\n",
      "Romania\n",
      "11339\n",
      "Greece\n",
      "34763\n",
      "Germany\n",
      "88750\n",
      "Ireland\n",
      "30425\n",
      "Belgium\n",
      "155330\n",
      "Czech Republic\n",
      "26224\n",
      "Finland\n",
      "22643\n",
      "France\n",
      "9421\n",
      "Denmark\n",
      "19049\n",
      "Hungary\n",
      "47666\n",
      "Poland\n",
      "29081\n",
      "Bulgaria\n",
      "12369\n",
      "Slovakia\n",
      "30484\n",
      "Spain\n",
      "149575\n",
      "Latvia\n",
      "2031\n",
      "Luxembourg\n",
      "30845\n",
      "Lithuania\n",
      "44980\n",
      "United Kingdom\n",
      "18158\n"
     ]
    }
   ],
   "source": [
    "master = pd.DataFrame()\n",
    "codes = []\n",
    "for x in glob.glob('per_country_full/*.csv'):\n",
    "    country = x.split('/')[1].split('_')[0]\n",
    "    if country in eu:\n",
    "        print(country)\n",
    "        df = pd.read_csv(x)\n",
    "        print(df.shape[0])\n",
    "        df = df.drop(columns=['Unnamed: 0'])\n",
    "        master = pd.concat([master,df])\n",
    "    "
   ]
  },
  {
   "cell_type": "code",
   "execution_count": 4,
   "id": "188563f6-85de-447c-977b-95599f1c21be",
   "metadata": {},
   "outputs": [
    {
     "data": {
      "text/plain": [
       "(1130037, 15)"
      ]
     },
     "execution_count": 4,
     "metadata": {},
     "output_type": "execute_result"
    }
   ],
   "source": [
    "master.shape"
   ]
  },
  {
   "cell_type": "code",
   "execution_count": 5,
   "id": "d1ddf3d1-a3cd-43e7-b026-90735e1fccf6",
   "metadata": {},
   "outputs": [],
   "source": [
    "master['year']=master['manifesto_id'].apply(lambda x: pd.to_datetime(x.split(\"_\")[1][:4]).year)\n",
    "master['party_id']=master['manifesto_id'].apply(lambda x: x.split(\"_\")[0])"
   ]
  },
  {
   "cell_type": "code",
   "execution_count": 6,
   "id": "f92cab30-c6e4-4eef-98f2-34090550a5e1",
   "metadata": {},
   "outputs": [
    {
     "data": {
      "text/plain": [
       "(1115438, 17)"
      ]
     },
     "execution_count": 6,
     "metadata": {},
     "output_type": "execute_result"
    }
   ],
   "source": [
    "# DROP ALL BEFORE 1990\n",
    "master = master[master['year']>=1990]\n",
    "master.shape"
   ]
  },
  {
   "cell_type": "code",
   "execution_count": 7,
   "id": "08010022-38ba-491f-adb4-21e15d778853",
   "metadata": {},
   "outputs": [],
   "source": [
    "master.reset_index(inplace=True)"
   ]
  },
  {
   "cell_type": "code",
   "execution_count": 8,
   "id": "860dbeaa-bb45-4855-9bdf-e1b662a98966",
   "metadata": {},
   "outputs": [
    {
     "data": {
      "text/plain": [
       "language\n",
       "dutch         201807\n",
       "german        156427\n",
       "spanish       120404\n",
       "french         90682\n",
       "english        49287\n",
       "portuguese     48149\n",
       "hungarian      47666\n",
       "greek          47418\n",
       "lithuanian     44980\n",
       "slovenian      40029\n",
       "croatian       31161\n",
       "slovak         30261\n",
       "polish         28550\n",
       "czech          26224\n",
       "catalan        23182\n",
       "finnish        22303\n",
       "italian        21836\n",
       "danish         18934\n",
       "swedish        17624\n",
       "estonian       16813\n",
       "bulgarian      12365\n",
       "romanian       11339\n",
       "galician        5966\n",
       "latvian         2031\n",
       "Name: count, dtype: int64"
      ]
     },
     "execution_count": 8,
     "metadata": {},
     "output_type": "execute_result"
    }
   ],
   "source": [
    "# manifestos per language\n",
    "master['language'].value_counts()"
   ]
  },
  {
   "cell_type": "code",
   "execution_count": 9,
   "id": "c0f5adff-e6f4-425c-89de-5ddd26be9be3",
   "metadata": {},
   "outputs": [
    {
     "data": {
      "text/plain": [
       "country\n",
       "Austria            50\n",
       "Belgium            79\n",
       "Bulgaria           25\n",
       "Croatia            54\n",
       "Cyprus             20\n",
       "Czech Republic     31\n",
       "Denmark            79\n",
       "Estonia            24\n",
       "Finland            62\n",
       "France             38\n",
       "Germany            50\n",
       "Greece             49\n",
       "Hungary            28\n",
       "Ireland            41\n",
       "Italy              69\n",
       "Latvia             30\n",
       "Lithuania          42\n",
       "Luxembourg         17\n",
       "Netherlands        96\n",
       "Poland             43\n",
       "Portugal           41\n",
       "Romania            29\n",
       "Slovakia           46\n",
       "Slovenia           41\n",
       "Spain             104\n",
       "Sweden             60\n",
       "United Kingdom     22\n",
       "Name: manifesto_id, dtype: int64"
      ]
     },
     "execution_count": 9,
     "metadata": {},
     "output_type": "execute_result"
    }
   ],
   "source": [
    "# manifestos per country\n",
    "master.groupby(['country'])['manifesto_id'].nunique()"
   ]
  },
  {
   "cell_type": "code",
   "execution_count": 10,
   "id": "f27a8dde-d1df-461d-99c4-534580e770c1",
   "metadata": {},
   "outputs": [],
   "source": [
    "# DROP ALL THAT HAVEN'T BEEN ANNOTATED AT QS LEVEL, WE WILL COME BACK TO THESE IN LATER SCRIPTS\n",
    "mvc = master['manifesto_id'].value_counts()\n",
    "master = master[~master['manifesto_id'].isin(mvc[mvc==1].index)]\n",
    "master.reset_index(inplace=True)"
   ]
  },
  {
   "cell_type": "code",
   "execution_count": 11,
   "id": "5e0bd098-c6a6-4073-8a17-f8cd05dfa08a",
   "metadata": {},
   "outputs": [
    {
     "data": {
      "text/plain": [
       "(1115148, 19)"
      ]
     },
     "execution_count": 11,
     "metadata": {},
     "output_type": "execute_result"
    }
   ],
   "source": [
    "master.shape"
   ]
  },
  {
   "cell_type": "code",
   "execution_count": null,
   "id": "7474649c-012b-4ca6-963e-05ec98b87cae",
   "metadata": {},
   "outputs": [],
   "source": [
    "# create QS id \n",
    "newm = pd.DataFrame()\n",
    "for i,r in enumerate(master['manifesto_id'].unique()):\n",
    "    s = master[master['manifesto_id']==r]\n",
    "    qs = [r+'_'+str(0)*(4-len(str(x)))+str(x) for x in range(s.shape[0])]\n",
    "    s['qs_new']=qs\n",
    "    newm = pd.concat([newm,s])\n",
    "    # for q in qs:\n",
    "    #     qs_ids.append(q)"
   ]
  },
  {
   "cell_type": "code",
   "execution_count": 14,
   "id": "3424b13f-7f1c-4807-b27b-fa52489fe55d",
   "metadata": {},
   "outputs": [],
   "source": [
    "newm.reset_index(inplace=True,drop=True)"
   ]
  },
  {
   "cell_type": "code",
   "execution_count": 15,
   "id": "9b9e626f-f267-4e5d-a2de-2ed7749eb521",
   "metadata": {},
   "outputs": [
    {
     "data": {
      "text/plain": [
       "((1115148, 20), (1115148, 19))"
      ]
     },
     "execution_count": 15,
     "metadata": {},
     "output_type": "execute_result"
    }
   ],
   "source": [
    "newm.shape, master.shape"
   ]
  },
  {
   "cell_type": "code",
   "execution_count": null,
   "id": "0e284e21-68d9-44ac-b62a-47584ca610a5",
   "metadata": {},
   "outputs": [],
   "source": [
    "# save \n",
    "newm.to_csv('all_eu_raw_mpd.csv',header=True,index=False)"
   ]
  },
  {
   "cell_type": "markdown",
   "id": "5004a2e0-e550-4154-ac27-fb2580c3154f",
   "metadata": {},
   "source": [
    "## fix slashes -- double slashes demark quasi-sentences in the annotatied pdfs. some have not been parsed correctly so we fix that here"
   ]
  },
  {
   "cell_type": "code",
   "execution_count": null,
   "id": "8c177028-a340-4c12-ab72-1c99fd057779",
   "metadata": {},
   "outputs": [],
   "source": [
    "# how big is the issue?\n",
    "sl_all = pd.Series([1 if '//' in x.strip('//') and 'HYPERLINK' not in x else 0 for x in newm['original_text']])\n",
    "sl_all.sum()"
   ]
  },
  {
   "cell_type": "code",
   "execution_count": null,
   "id": "8b5fdff6-9e97-4758-8a30-8c51069ec396",
   "metadata": {},
   "outputs": [],
   "source": [
    "d['slash']=sl_all\n",
    "pd.DataFrame([d[d['slash']==1]['qs_new'],d[d['slash']==1]['original_text']]).T.to_csv('bads.csv')"
   ]
  },
  {
   "cell_type": "code",
   "execution_count": null,
   "id": "b6a8534b-dc54-4e87-a8f6-2177054b5156",
   "metadata": {},
   "outputs": [],
   "source": [
    "# manaual evaluation of qs containing slashes that are actually multiple quasi-sentences, add 'fix_slash' column denoting these to be fixed"
   ]
  },
  {
   "cell_type": "code",
   "execution_count": null,
   "id": "0677bd58-ccea-4682-9637-16636b42a64e",
   "metadata": {},
   "outputs": [],
   "source": [
    "tofix = pd.read_csv('bads_w_fix2.csv')"
   ]
  },
  {
   "cell_type": "code",
   "execution_count": null,
   "id": "78030042-472d-441d-b95b-1b358830afdc",
   "metadata": {},
   "outputs": [],
   "source": [
    "fslsh = tofix[tofix['fix_slash']==1]\n",
    "fslsh.shape"
   ]
  },
  {
   "cell_type": "code",
   "execution_count": null,
   "id": "0939f76c-2bf3-43e3-9314-f716fd46d101",
   "metadata": {},
   "outputs": [],
   "source": [
    "# initiate new df to house split entries\n",
    "new_entries = pd.DataFrame()\n",
    "# iterate over qs that need to be fixed\n",
    "for qs,text in zip(fslsh['qs_new'],fslsh['original_text']):\n",
    "    # split text\n",
    "    splits = text.split('//')\n",
    "    #print(splits)\n",
    "    \n",
    "    # enumerate over splits\n",
    "    for n,split in enumerate(splits):\n",
    "        # check for empties \n",
    "        if len(split) < 1: \n",
    "            continue\n",
    "            \n",
    "        # extrct original from database, create new entries based on the original meta data but with new text and new qs \n",
    "        else:\n",
    "            new = d[d['qs_new']==qs]\n",
    "            new['original_text']=split\n",
    "            new['qs_new']=new['qs_new']+f\".{n}\"\n",
    "\n",
    "            # compile into new entries dataframe\n",
    "            new_entries = pd.concat([new_entries,new])\n",
    "\n",
    "orig_ind = new_entries.index\n",
    "new_entries.reset_index(inplace=True,drop=True)"
   ]
  },
  {
   "cell_type": "code",
   "execution_count": null,
   "id": "831b33bd-e7fd-41a7-b487-a8561c4bfc3b",
   "metadata": {},
   "outputs": [],
   "source": [
    "new_entries.shape"
   ]
  },
  {
   "cell_type": "code",
   "execution_count": null,
   "id": "aadaf073-8e89-4d59-9bc7-dc92cc41774b",
   "metadata": {},
   "outputs": [],
   "source": [
    "new_entries.drop(columns=['Unnamed: 0'],inplace=True)"
   ]
  },
  {
   "cell_type": "code",
   "execution_count": null,
   "id": "d9a32c52-1b64-46e9-a819-c7dbeb85ece6",
   "metadata": {},
   "outputs": [],
   "source": [
    "orig_ind = orig_ind.unique()\n",
    "orig_ind"
   ]
  },
  {
   "cell_type": "code",
   "execution_count": null,
   "id": "44ad2743-a963-49a3-9e0c-9185c0efa19d",
   "metadata": {},
   "outputs": [],
   "source": [
    "# concat new entries with master\n",
    "d=pd.concat([newm,new_entries])\n",
    "d.shape"
   ]
  },
  {
   "cell_type": "code",
   "execution_count": null,
   "id": "1315a688-b8ab-459c-b9dc-96891b8a3b42",
   "metadata": {},
   "outputs": [],
   "source": [
    "# drop original (bad) qs\n",
    "d.drop(orig_ind,inplace=True)\n",
    "d.shape"
   ]
  },
  {
   "cell_type": "code",
   "execution_count": null,
   "id": "a22b3ef5-a26d-4392-878f-2be5729dcda2",
   "metadata": {},
   "outputs": [],
   "source": [
    "# reset index of d\n",
    "d.reset_index(inplace=True,drop=True)"
   ]
  },
  {
   "cell_type": "markdown",
   "id": "7b06dd33-2dac-43d2-a650-73771fe77188",
   "metadata": {},
   "source": [
    "#### remove slashes from rest of the ok ones"
   ]
  },
  {
   "cell_type": "code",
   "execution_count": null,
   "id": "961254bf-5532-4e26-8966-6751f2d93b58",
   "metadata": {},
   "outputs": [],
   "source": [
    "# remove slashes\n",
    "slsh = tofix.query('remove_slash == 1')\n",
    "for i in slsh['qs_new']:\n",
    "    t = d[d['qs_new']==i]['original_text'].tolist()[0]\n",
    "    t = t.replace('//','')\n",
    "    d.loc[d['qs_new']==i,'original_text']=t"
   ]
  },
  {
   "cell_type": "code",
   "execution_count": null,
   "id": "5b913923-fd58-4d1c-9b37-6fcc64a04b66",
   "metadata": {},
   "outputs": [],
   "source": [
    "d.to_csv('cleaned_data.csv',index=False)"
   ]
  },
  {
   "cell_type": "markdown",
   "id": "93e2477a-a982-4d3f-85af-12240aaf85bf",
   "metadata": {},
   "source": [
    "## keyword detection"
   ]
  },
  {
   "cell_type": "code",
   "execution_count": 16,
   "id": "3663323c-06c8-4b25-a7a7-3fbf2c8ce81d",
   "metadata": {},
   "outputs": [],
   "source": [
    "# custom utils made to hold keyword dictionaries and extract function \n",
    "import kw_utils, importlib\n",
    "from kw_utils import get_kw, extract_keywords"
   ]
  },
  {
   "cell_type": "code",
   "execution_count": null,
   "id": "48740bc9-4618-4e24-a31d-784755bf4462",
   "metadata": {},
   "outputs": [],
   "source": [
    "gw_dict = get_kw('gw_dict')\n",
    "cc_dict = get_kw('climate_change_dict')\n",
    "c_dict = get_kw('climate_dict')\n",
    "cer_dict = get_kw('clim_em_ren')\n",
    "se_dict = get_kw('sust_env')"
   ]
  },
  {
   "cell_type": "code",
   "execution_count": null,
   "id": "2052b11c-9751-4959-af8a-30eef9162c2e",
   "metadata": {},
   "outputs": [],
   "source": [
    "# identify all matches se and clim em ren matches \n",
    "all_matches = pd.DataFrame()\n",
    "\n",
    "for lang in d['language'].unique():\n",
    "    print(lang)\n",
    "    s = d[(d['language']==lang)]\n",
    "    #print(s.shape)\n",
    "     \n",
    "    kws = gw_dict[lang] \n",
    "    matches = extract_keywords(s['original_text'],kws,list=True)\n",
    "    s['kw_gw']=matches\n",
    "\n",
    "    kws = cc_dict[lang] \n",
    "    matches = extract_keywords(s['original_text'],kws,list=True)\n",
    "    s['kw_cc']=matches\n",
    "    \n",
    "    kws = c_dict[lang] \n",
    "    matches = extract_keywords(s['original_text'],kws,list=True)\n",
    "    s['kw_c']=matches\n",
    "    \n",
    "    kws = cer_dict[lang]\n",
    "    matches = extract_keywords(s['original_text'],kws,list=True)\n",
    "    s['kw_cer']=matches\n",
    "    \n",
    "    kws = se_dict[lang]\n",
    "    matches = extract_keywords(s['original_text'],kws,list=True)\n",
    "    s['kw_se']=matches\n",
    "    \n",
    "    s=s[['qs_new','date','kw_gw','kw_cc','kw_c','kw_se','kw_cer','language','country']]\n",
    "    all_matches=pd.concat([all_matches,s])"
   ]
  },
  {
   "cell_type": "code",
   "execution_count": null,
   "id": "96f94c18-49ff-4b3d-b3e2-1a8c201b4f99",
   "metadata": {},
   "outputs": [],
   "source": [
    "d = pd.merge(d,all_matches[['kw_cc','kw_c','kw_gw','kw_cer','kw_se','qs_new']],on='qs_new',how='inner')"
   ]
  },
  {
   "cell_type": "code",
   "execution_count": null,
   "id": "ec2eae77-de66-4fd2-9a7c-69c6e8a96769",
   "metadata": {},
   "outputs": [],
   "source": [
    "d.to_csv('data_cleaned_kw.csv',index=False)"
   ]
  }
 ],
 "metadata": {
  "kernelspec": {
   "display_name": "Python 3 (ipykernel)",
   "language": "python",
   "name": "python3"
  },
  "language_info": {
   "codemirror_mode": {
    "name": "ipython",
    "version": 3
   },
   "file_extension": ".py",
   "mimetype": "text/x-python",
   "name": "python",
   "nbconvert_exporter": "python",
   "pygments_lexer": "ipython3",
   "version": "3.8.10"
  }
 },
 "nbformat": 4,
 "nbformat_minor": 5
}
