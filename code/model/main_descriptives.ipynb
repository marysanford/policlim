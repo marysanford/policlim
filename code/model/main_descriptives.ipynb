{
 "cells": [
  {
   "cell_type": "markdown",
   "metadata": {},
   "source": [
    "## setup"
   ]
  },
  {
   "cell_type": "code",
   "execution_count": 1,
   "metadata": {},
   "outputs": [],
   "source": [
    "import pandas as pd, numpy as np\n",
    "import country_converter as coco"
   ]
  },
  {
   "cell_type": "code",
   "execution_count": 36,
   "metadata": {},
   "outputs": [
    {
     "name": "stderr",
     "output_type": "stream",
     "text": [
      "C:\\Users\\Sanford\\AppData\\Local\\Temp\\ipykernel_51864\\3265325669.py:2: DtypeWarning: Columns (4,13,15,18) have mixed types. Specify dtype option on import or set low_memory=False.\n",
      "  qs = pd.read_csv('~/Documents/eiee/capable/manifestos/rep_package/data/policlim_full_qs_2025-17-06.csv',dtype={'cmp_code_clean':'str','cmp_code_orig':'str'})\n"
     ]
    }
   ],
   "source": [
    "# import full quasi-sentence data \n",
    "qs = pd.read_csv('~/Documents/eiee/capable/manifestos/rep_package/data/policlim_full_qs_2025-17-06.csv',dtype={'cmp_code_clean':'str','cmp_code_orig':'str'})\n",
    "\n",
    "# remove the short ones, headings, boxes, intro\n",
    "qs = qs[qs['keep']==1]"
   ]
  },
  {
   "cell_type": "code",
   "execution_count": 5,
   "metadata": {},
   "outputs": [
    {
     "data": {
      "text/plain": [
       "['Do 2015 roku całkowita po-jemność magazynów gazowych wzrośnie z obec-nego 1,66 mld m³ do ponad 3 mld m³, a długość  gazociągów zwiększy się o 1 tys km']"
      ]
     },
     "execution_count": 5,
     "metadata": {},
     "output_type": "execute_result"
    }
   ],
   "source": []
  },
  {
   "cell_type": "code",
   "execution_count": 4,
   "metadata": {},
   "outputs": [
    {
     "data": {
      "text/plain": [
       "['qs_id',\n",
       " 'party',\n",
       " 'country',\n",
       " 'year',\n",
       " 'edate',\n",
       " 'language',\n",
       " 'cmp_code_clean',\n",
       " 'climate',\n",
       " 'partyname',\n",
       " 'manifesto_id',\n",
       " 'parfam',\n",
       " 'parfam_name',\n",
       " 'original_text',\n",
       " 'prob_climate',\n",
       " 'iso3',\n",
       " 'text_en',\n",
       " 'word_count',\n",
       " 'cmp_code_orig',\n",
       " 'keep']"
      ]
     },
     "execution_count": 4,
     "metadata": {},
     "output_type": "execute_result"
    }
   ],
   "source": [
    "qs.columns.tolist()"
   ]
  },
  {
   "cell_type": "code",
   "execution_count": 27,
   "metadata": {},
   "outputs": [],
   "source": [
    "# import manifesto-level data \n",
    "man = pd.read_csv('~/Documents/eiee/capable/manifestos/rep_package/data/policlim_full_man_2025-18-06.csv')"
   ]
  },
  {
   "cell_type": "code",
   "execution_count": 29,
   "metadata": {},
   "outputs": [
    {
     "data": {
      "text/plain": [
       "['manifesto_id',\n",
       " 'climate',\n",
       " 'country',\n",
       " 'countryname',\n",
       " 'oecdmember',\n",
       " 'eumember',\n",
       " 'edate',\n",
       " 'date',\n",
       " 'party',\n",
       " 'partyname',\n",
       " 'partyabbrev',\n",
       " 'parfam',\n",
       " 'candidatename',\n",
       " 'coderid',\n",
       " 'manual',\n",
       " 'coderyear',\n",
       " 'testresult',\n",
       " 'testeditsim',\n",
       " 'pervote',\n",
       " 'voteest',\n",
       " 'presvote',\n",
       " 'absseat',\n",
       " 'totseats',\n",
       " 'progtype',\n",
       " 'datasetorigin',\n",
       " 'corpusversion',\n",
       " 'total',\n",
       " 'peruncod',\n",
       " 'per101',\n",
       " 'per102',\n",
       " 'per103',\n",
       " 'per104',\n",
       " 'per105',\n",
       " 'per106',\n",
       " 'per107',\n",
       " 'per108',\n",
       " 'per109',\n",
       " 'per110',\n",
       " 'per201',\n",
       " 'per202',\n",
       " 'per203',\n",
       " 'per204',\n",
       " 'per301',\n",
       " 'per302',\n",
       " 'per303',\n",
       " 'per304',\n",
       " 'per305',\n",
       " 'per401',\n",
       " 'per402',\n",
       " 'per403',\n",
       " 'per404',\n",
       " 'per405',\n",
       " 'per406',\n",
       " 'per407',\n",
       " 'per408',\n",
       " 'per409',\n",
       " 'per410',\n",
       " 'per411',\n",
       " 'per412',\n",
       " 'per413',\n",
       " 'per414',\n",
       " 'per415',\n",
       " 'per416',\n",
       " 'per501',\n",
       " 'per502',\n",
       " 'per503',\n",
       " 'per504',\n",
       " 'per505',\n",
       " 'per506',\n",
       " 'per507',\n",
       " 'per601',\n",
       " 'per602',\n",
       " 'per603',\n",
       " 'per604',\n",
       " 'per605',\n",
       " 'per606',\n",
       " 'per607',\n",
       " 'per608',\n",
       " 'per701',\n",
       " 'per702',\n",
       " 'per703',\n",
       " 'per704',\n",
       " 'per705',\n",
       " 'per706',\n",
       " 'per1011',\n",
       " 'per1012',\n",
       " 'per1013',\n",
       " 'per1014',\n",
       " 'per1015',\n",
       " 'per1016',\n",
       " 'per1021',\n",
       " 'per1022',\n",
       " 'per1023',\n",
       " 'per1024',\n",
       " 'per1025',\n",
       " 'per1026',\n",
       " 'per1031',\n",
       " 'per1032',\n",
       " 'per1033',\n",
       " 'per2021',\n",
       " 'per2022',\n",
       " 'per2023',\n",
       " 'per2031',\n",
       " 'per2032',\n",
       " 'per2033',\n",
       " 'per2041',\n",
       " 'per3011',\n",
       " 'per3051',\n",
       " 'per3052',\n",
       " 'per3053',\n",
       " 'per3054',\n",
       " 'per3055',\n",
       " 'per4011',\n",
       " 'per4012',\n",
       " 'per4013',\n",
       " 'per4014',\n",
       " 'per4121',\n",
       " 'per4122',\n",
       " 'per4123',\n",
       " 'per4124',\n",
       " 'per4131',\n",
       " 'per4132',\n",
       " 'per5021',\n",
       " 'per5031',\n",
       " 'per5041',\n",
       " 'per5061',\n",
       " 'per6011',\n",
       " 'per6012',\n",
       " 'per6013',\n",
       " 'per6014',\n",
       " 'per6061',\n",
       " 'per6071',\n",
       " 'per6072',\n",
       " 'per6081',\n",
       " 'per7051',\n",
       " 'per7052',\n",
       " 'per7061',\n",
       " 'per7062',\n",
       " 'per103_1',\n",
       " 'per103_2',\n",
       " 'per201_1',\n",
       " 'per201_2',\n",
       " 'per202_1',\n",
       " 'per202_2',\n",
       " 'per202_3',\n",
       " 'per202_4',\n",
       " 'per305_1',\n",
       " 'per305_2',\n",
       " 'per305_3',\n",
       " 'per305_4',\n",
       " 'per305_5',\n",
       " 'per305_6',\n",
       " 'per416_1',\n",
       " 'per416_2',\n",
       " 'per601_1',\n",
       " 'per601_2',\n",
       " 'per602_1',\n",
       " 'per602_2',\n",
       " 'per605_1',\n",
       " 'per605_2',\n",
       " 'per606_1',\n",
       " 'per606_2',\n",
       " 'per607_1',\n",
       " 'per607_2',\n",
       " 'per607_3',\n",
       " 'per608_1',\n",
       " 'per608_2',\n",
       " 'per608_3',\n",
       " 'per703_1',\n",
       " 'per703_2',\n",
       " 'rile',\n",
       " 'planeco',\n",
       " 'markeco',\n",
       " 'welfare',\n",
       " 'intpeace',\n",
       " 'datasetversion',\n",
       " 'id_perm',\n",
       " 'lowe_rile',\n",
       " 'std_rile',\n",
       " 'std_lowe_rile',\n",
       " 'std_diff_rile',\n",
       " 'iso3']"
      ]
     },
     "execution_count": 29,
     "metadata": {},
     "output_type": "execute_result"
    }
   ],
   "source": [
    "man.columns.tolist()"
   ]
  },
  {
   "cell_type": "code",
   "execution_count": 28,
   "metadata": {},
   "outputs": [],
   "source": [
    "## MANIFESTOS AGGREGATED USING THE FOLLOWING CODE \n",
    "\n",
    "## First load in master mpd dataset with all the scores per manifesto\n",
    "# cmp = pd.read_csv('~/Documents/eiee/capable/manifestos/202401_CMP.csv')\n",
    "\n",
    "## create manifesto id variable \n",
    "# cmp['manifesto_id']=[str(r['party'])+'_'+str(r['date']) for _,r in cmp.iterrows()]\n",
    "\n",
    "## calculate the Lowe et al RILE scores \n",
    "\n",
    "# left = ['per401','per402','per501','per416','per403','per404','per406','per412','per413','per504','per506','per701','per504','per506','per103','per105','per106','per107','per202','per403',\n",
    "#        'per404','per406','per412','per413','per504','per506','per701','per403','per404','per412','per103','per105','per106','per107','per202']\n",
    "\n",
    "#right = ['per403','per412','per413','per415','per410','per401','per402','per407','per414','per505','per505','per507','per104','per201','per203','per305','per401','per401','per407','per414',\n",
    "#         'per505','per601','per603','per605','per606','per401','per414','per104','per201','per203','per305','per601','per603','per605','per606']\n",
    "\n",
    "# cmp['lowe_rile']=(np.log(((cmp[right].sum(axis=1)/100)*cmp['total'])+.5)-np.log(((cmp[left].sum(axis=1)/100)*cmp['total'])+.5))\n",
    "## cmp['lowe_rile_base']=np.log(cmp[right].sum(axis=1)+.5)-np.log(cmp[left].sum(axis=1)+.5)\n",
    "\n",
    "# cmp['std_rile']=(cmp['rile']-cmp['rile'].mean())/cmp['rile'].std()\n",
    "# cmp['std_lowe_rile']=(cmp['lowe_rile']-cmp['lowe_rile'].mean())/cmp['lowe_rile'].std()\n",
    "# cmp[['std_rile','std_lowe_rile']]\n",
    "\n",
    "# cmp['std_diff_rile']=cmp['std_rile']-cmp['std_lowe_rile']\n",
    "# cmp['std_diff_rile'].describe()\n",
    "\n",
    "## group the quasisentences into their manifestos\n",
    "# newm = qs.groupby(['country','language','partyname','manifesto_id','parfam_name']).mean(numeric_only=True)[['party',\n",
    "#                                                                    'parfam','climate','year']].reset_index()\n",
    "\n",
    "## Merge all other meta data from master MPD file \n",
    "# merged = newm[['manifesto_id','climate']].merge(cmp,on='manifesto_id')\n",
    "\n",
    "## Create parfam_name variable based on MPD party family codes\n",
    "# parfam_name_dict = {\n",
    "#    10: 'ECO',\n",
    "#    20: 'LEF',\n",
    "#    30: 'SOC',\n",
    "#    40: 'LIB',\n",
    "#    50: 'CHR',\n",
    "#    60: 'CON',\n",
    "#    70: 'NAT',\n",
    "#    80: 'AGR',\n",
    "#    90: 'ETH',\n",
    "#    95: 'SIP',\n",
    "#    98: 'DIV',\n",
    "#    999: 'MI'\n",
    "#}\n",
    "# merged['parfam_name']=[parfam_name_dict[code] for code in merged['parfam']]\n",
    "\n",
    "## create year variable\n",
    "# merged['year']=[int(str(i).split('_')[1][:4]) for i in merged['manifesto_id']]\n",
    "\n",
    "## create country code iso3\n",
    "# cc = coco.CountryConverter()\n",
    "# merged['iso3'] = cc.pandas_convert(series=merged['countryname'], to='ISO3')   \n"
   ]
  },
  {
   "cell_type": "code",
   "execution_count": 6,
   "metadata": {},
   "outputs": [
    {
     "data": {
      "text/plain": [
       "['manifesto_id',\n",
       " 'climate',\n",
       " 'country',\n",
       " 'countryname',\n",
       " 'oecdmember',\n",
       " 'eumember',\n",
       " 'edate',\n",
       " 'date',\n",
       " 'party',\n",
       " 'partyname',\n",
       " 'partyabbrev',\n",
       " 'parfam',\n",
       " 'candidatename',\n",
       " 'coderid',\n",
       " 'manual',\n",
       " 'coderyear',\n",
       " 'testresult',\n",
       " 'testeditsim',\n",
       " 'pervote',\n",
       " 'voteest',\n",
       " 'presvote',\n",
       " 'absseat',\n",
       " 'totseats',\n",
       " 'progtype',\n",
       " 'datasetorigin',\n",
       " 'corpusversion',\n",
       " 'total',\n",
       " 'peruncod',\n",
       " 'per101',\n",
       " 'per102',\n",
       " 'per103',\n",
       " 'per104',\n",
       " 'per105',\n",
       " 'per106',\n",
       " 'per107',\n",
       " 'per108',\n",
       " 'per109',\n",
       " 'per110',\n",
       " 'per201',\n",
       " 'per202',\n",
       " 'per203',\n",
       " 'per204',\n",
       " 'per301',\n",
       " 'per302',\n",
       " 'per303',\n",
       " 'per304',\n",
       " 'per305',\n",
       " 'per401',\n",
       " 'per402',\n",
       " 'per403',\n",
       " 'per404',\n",
       " 'per405',\n",
       " 'per406',\n",
       " 'per407',\n",
       " 'per408',\n",
       " 'per409',\n",
       " 'per410',\n",
       " 'per411',\n",
       " 'per412',\n",
       " 'per413',\n",
       " 'per414',\n",
       " 'per415',\n",
       " 'per416',\n",
       " 'per501',\n",
       " 'per502',\n",
       " 'per503',\n",
       " 'per504',\n",
       " 'per505',\n",
       " 'per506',\n",
       " 'per507',\n",
       " 'per601',\n",
       " 'per602',\n",
       " 'per603',\n",
       " 'per604',\n",
       " 'per605',\n",
       " 'per606',\n",
       " 'per607',\n",
       " 'per608',\n",
       " 'per701',\n",
       " 'per702',\n",
       " 'per703',\n",
       " 'per704',\n",
       " 'per705',\n",
       " 'per706',\n",
       " 'per1011',\n",
       " 'per1012',\n",
       " 'per1013',\n",
       " 'per1014',\n",
       " 'per1015',\n",
       " 'per1016',\n",
       " 'per1021',\n",
       " 'per1022',\n",
       " 'per1023',\n",
       " 'per1024',\n",
       " 'per1025',\n",
       " 'per1026',\n",
       " 'per1031',\n",
       " 'per1032',\n",
       " 'per1033',\n",
       " 'per2021',\n",
       " 'per2022',\n",
       " 'per2023',\n",
       " 'per2031',\n",
       " 'per2032',\n",
       " 'per2033',\n",
       " 'per2041',\n",
       " 'per3011',\n",
       " 'per3051',\n",
       " 'per3052',\n",
       " 'per3053',\n",
       " 'per3054',\n",
       " 'per3055',\n",
       " 'per4011',\n",
       " 'per4012',\n",
       " 'per4013',\n",
       " 'per4014',\n",
       " 'per4121',\n",
       " 'per4122',\n",
       " 'per4123',\n",
       " 'per4124',\n",
       " 'per4131',\n",
       " 'per4132',\n",
       " 'per5021',\n",
       " 'per5031',\n",
       " 'per5041',\n",
       " 'per5061',\n",
       " 'per6011',\n",
       " 'per6012',\n",
       " 'per6013',\n",
       " 'per6014',\n",
       " 'per6061',\n",
       " 'per6071',\n",
       " 'per6072',\n",
       " 'per6081',\n",
       " 'per7051',\n",
       " 'per7052',\n",
       " 'per7061',\n",
       " 'per7062',\n",
       " 'per103_1',\n",
       " 'per103_2',\n",
       " 'per201_1',\n",
       " 'per201_2',\n",
       " 'per202_1',\n",
       " 'per202_2',\n",
       " 'per202_3',\n",
       " 'per202_4',\n",
       " 'per305_1',\n",
       " 'per305_2',\n",
       " 'per305_3',\n",
       " 'per305_4',\n",
       " 'per305_5',\n",
       " 'per305_6',\n",
       " 'per416_1',\n",
       " 'per416_2',\n",
       " 'per601_1',\n",
       " 'per601_2',\n",
       " 'per602_1',\n",
       " 'per602_2',\n",
       " 'per605_1',\n",
       " 'per605_2',\n",
       " 'per606_1',\n",
       " 'per606_2',\n",
       " 'per607_1',\n",
       " 'per607_2',\n",
       " 'per607_3',\n",
       " 'per608_1',\n",
       " 'per608_2',\n",
       " 'per608_3',\n",
       " 'per703_1',\n",
       " 'per703_2',\n",
       " 'rile',\n",
       " 'planeco',\n",
       " 'markeco',\n",
       " 'welfare',\n",
       " 'intpeace',\n",
       " 'datasetversion',\n",
       " 'id_perm',\n",
       " 'lowe_rile',\n",
       " 'std_rile',\n",
       " 'std_lowe_rile',\n",
       " 'std_diff_rile',\n",
       " 'iso3']"
      ]
     },
     "execution_count": 6,
     "metadata": {},
     "output_type": "execute_result"
    }
   ],
   "source": [
    "man.columns.tolist()"
   ]
  },
  {
   "cell_type": "code",
   "execution_count": 34,
   "metadata": {},
   "outputs": [
    {
     "data": {
      "text/plain": [
       "(1792,)"
      ]
     },
     "execution_count": 34,
     "metadata": {},
     "output_type": "execute_result"
    }
   ],
   "source": [
    "qs.manifesto_id.unique().shape"
   ]
  },
  {
   "cell_type": "code",
   "execution_count": 35,
   "metadata": {},
   "outputs": [
    {
     "data": {
      "text/plain": [
       "<Axes: >"
      ]
     },
     "execution_count": 35,
     "metadata": {},
     "output_type": "execute_result"
    },
    {
     "data": {
      "image/png": "[encoded data removed]",
      "text/plain": [
       "<Figure size 640x480 with 1 Axes>"
      ]
     },
     "metadata": {},
     "output_type": "display_data"
    }
   ],
   "source": [
    "man.query('parfam_name ==\"ECO\"')"
   ]
  },
  {
   "cell_type": "markdown",
   "metadata": {},
   "source": [
    "## summary stats"
   ]
  },
  {
   "cell_type": "code",
   "execution_count": 7,
   "metadata": {},
   "outputs": [
    {
     "name": "stdout",
     "output_type": "stream",
     "text": [
      "climate\n",
      "0.0    1736041\n",
      "1.0      95253\n",
      "Name: count, dtype: int64\n",
      "climate\n",
      "0.0    0.947986\n",
      "1.0    0.052014\n",
      "Name: proportion, dtype: float64\n"
     ]
    }
   ],
   "source": [
    "# count and proporption climate relevant\n",
    "print(qs.climate.value_counts())\n",
    "print(qs.climate.value_counts(normalize=True))"
   ]
  },
  {
   "cell_type": "code",
   "execution_count": 16,
   "metadata": {},
   "outputs": [],
   "source": [
    "# Create dummies for 501 and 416 for comparison with climate variable \n",
    "qs['501'] = (qs['cmp_code_clean'] == '501.0').astype(int)\n",
    "qs['416'] = qs['cmp_code_clean'].isin(['416.0', '416.1', '416.2']).astype(int)\n"
   ]
  },
  {
   "cell_type": "code",
   "execution_count": 17,
   "metadata": {},
   "outputs": [
    {
     "data": {
      "text/plain": [
       "np.float64(0.08403129153483821)"
      ]
     },
     "execution_count": 17,
     "metadata": {},
     "output_type": "execute_result"
    }
   ],
   "source": [
    "# How many 501 and 416?\n",
    "qs['501'].value_counts(normalize=True)[1]+qs['416'].value_counts(normalize=True)[1]"
   ]
  },
  {
   "cell_type": "markdown",
   "metadata": {},
   "source": [
    "## Table 2: Overlap between our measure of climate salience and Manifesto Project variables "
   ]
  },
  {
   "cell_type": "code",
   "execution_count": 18,
   "metadata": {},
   "outputs": [
    {
     "data": {
      "text/html": [
       "<div>\n",
       "<style scoped>\n",
       "    .dataframe tbody tr th:only-of-type {\n",
       "        vertical-align: middle;\n",
       "    }\n",
       "\n",
       "    .dataframe tbody tr th {\n",
       "        vertical-align: top;\n",
       "    }\n",
       "\n",
       "    .dataframe thead th {\n",
       "        text-align: right;\n",
       "    }\n",
       "</style>\n",
       "<table border=\"1\" class=\"dataframe\">\n",
       "  <thead>\n",
       "    <tr style=\"text-align: right;\">\n",
       "      <th>climate</th>\n",
       "      <th>0.0</th>\n",
       "      <th>1.0</th>\n",
       "    </tr>\n",
       "    <tr>\n",
       "      <th>cmp_code_clean</th>\n",
       "      <th></th>\n",
       "      <th></th>\n",
       "    </tr>\n",
       "  </thead>\n",
       "  <tbody>\n",
       "    <tr>\n",
       "      <th>501.0</th>\n",
       "      <td>0.042551</td>\n",
       "      <td>0.288106</td>\n",
       "    </tr>\n",
       "    <tr>\n",
       "      <th>411.0</th>\n",
       "      <td>0.071980</td>\n",
       "      <td>0.143733</td>\n",
       "    </tr>\n",
       "    <tr>\n",
       "      <th>416.2</th>\n",
       "      <td>0.011361</td>\n",
       "      <td>0.141024</td>\n",
       "    </tr>\n",
       "    <tr>\n",
       "      <th>416.0</th>\n",
       "      <td>0.007201</td>\n",
       "      <td>0.062507</td>\n",
       "    </tr>\n",
       "    <tr>\n",
       "      <th>403.0</th>\n",
       "      <td>0.033875</td>\n",
       "      <td>0.046214</td>\n",
       "    </tr>\n",
       "    <tr>\n",
       "      <th>107.0</th>\n",
       "      <td>0.023809</td>\n",
       "      <td>0.021438</td>\n",
       "    </tr>\n",
       "    <tr>\n",
       "      <th>410.0</th>\n",
       "      <td>0.017782</td>\n",
       "      <td>0.021207</td>\n",
       "    </tr>\n",
       "    <tr>\n",
       "      <th>408.0</th>\n",
       "      <td>0.011726</td>\n",
       "      <td>0.020892</td>\n",
       "    </tr>\n",
       "    <tr>\n",
       "      <th>504.0</th>\n",
       "      <td>0.104284</td>\n",
       "      <td>0.018299</td>\n",
       "    </tr>\n",
       "    <tr>\n",
       "      <th>402.0</th>\n",
       "      <td>0.023275</td>\n",
       "      <td>0.018141</td>\n",
       "    </tr>\n",
       "    <tr>\n",
       "      <th>503.0</th>\n",
       "      <td>0.064551</td>\n",
       "      <td>0.016251</td>\n",
       "    </tr>\n",
       "    <tr>\n",
       "      <th>401.0</th>\n",
       "      <td>0.012671</td>\n",
       "      <td>0.013564</td>\n",
       "    </tr>\n",
       "    <tr>\n",
       "      <th>703.1</th>\n",
       "      <td>0.012976</td>\n",
       "      <td>0.013228</td>\n",
       "    </tr>\n",
       "    <tr>\n",
       "      <th>413.0</th>\n",
       "      <td>0.003931</td>\n",
       "      <td>0.011769</td>\n",
       "    </tr>\n",
       "    <tr>\n",
       "      <th>412.0</th>\n",
       "      <td>0.004996</td>\n",
       "      <td>0.011401</td>\n",
       "    </tr>\n",
       "  </tbody>\n",
       "</table>\n",
       "</div>"
      ],
      "text/plain": [
       "climate              0.0       1.0\n",
       "cmp_code_clean                    \n",
       "501.0           0.042551  0.288106\n",
       "411.0           0.071980  0.143733\n",
       "416.2           0.011361  0.141024\n",
       "416.0           0.007201  0.062507\n",
       "403.0           0.033875  0.046214\n",
       "107.0           0.023809  0.021438\n",
       "410.0           0.017782  0.021207\n",
       "408.0           0.011726  0.020892\n",
       "504.0           0.104284  0.018299\n",
       "402.0           0.023275  0.018141\n",
       "503.0           0.064551  0.016251\n",
       "401.0           0.012671  0.013564\n",
       "703.1           0.012976  0.013228\n",
       "413.0           0.003931  0.011769\n",
       "412.0           0.004996  0.011401"
      ]
     },
     "execution_count": 18,
     "metadata": {},
     "output_type": "execute_result"
    }
   ],
   "source": [
    "ct = pd.crosstab(qs['cmp_code_clean'],qs['climate'],normalize='columns').sort_values(1,ascending=False)\n",
    "ct[:15]\n"
   ]
  },
  {
   "cell_type": "markdown",
   "metadata": {},
   "source": [
    "## Table A1: Proportion of manifesto quasi-sentences by language"
   ]
  },
  {
   "cell_type": "code",
   "execution_count": 19,
   "metadata": {},
   "outputs": [
    {
     "name": "stdout",
     "output_type": "stream",
     "text": [
      "Spanish & 0.188 \\\\\n",
      "Dutch & 0.137 \\\\\n",
      "English & 0.127 \\\\\n",
      "German & 0.096 \\\\\n",
      "French & 0.086 \\\\\n",
      "Portuguese & 0.056 \\\\\n",
      "Norwegian & 0.052 \\\\\n",
      "Greek & 0.024 \\\\\n",
      "Hungarian & 0.023 \\\\\n",
      "Lithuanian & 0.023 \\\\\n",
      "Italian & 0.021 \\\\\n",
      "Slovenian & 0.02 \\\\\n",
      "Slovak & 0.016 \\\\\n",
      "Polish & 0.015 \\\\\n",
      "Croatian & 0.015 \\\\\n",
      "Catalan & 0.014 \\\\\n",
      "Swedish & 0.014 \\\\\n",
      "Czech & 0.013 \\\\\n",
      "Finnish & 0.013 \\\\\n",
      "Danish & 0.012 \\\\\n",
      "Hebrew & 0.011 \\\\\n",
      "Estonian & 0.008 \\\\\n",
      "Bulgarian & 0.006 \\\\\n",
      "Romanian & 0.006 \\\\\n",
      "Galician & 0.003 \\\\\n",
      "Latvian & 0.001 \\\\\n"
     ]
    }
   ],
   "source": [
    "qs_lang = qs.language.value_counts(normalize=True).sort_values(ascending=False)\n",
    "qs_lang = pd.DataFrame(qs_lang)\n",
    "for i,r in qs_lang.iterrows():\n",
    "    #print(i,r['proportion'])\n",
    "    print(f\"{i.capitalize()} & {np.round(r['proportion'],3)} \\\\\\\\\")"
   ]
  },
  {
   "cell_type": "markdown",
   "metadata": {},
   "source": [
    "## Table A4: Per country: proportion of manifesto quasi-sentences, number of manifestos, parties, and elections."
   ]
  },
  {
   "cell_type": "code",
   "execution_count": 20,
   "metadata": {},
   "outputs": [],
   "source": [
    "# Group by 'country'\n",
    "grouped = qs.groupby('country')\n",
    "\n",
    "# Aggregate the unique counts for parties, manifestos, and elections\n",
    "country_stats = grouped.agg({'qs_id':'nunique','party': 'nunique', 'manifesto_id': 'nunique', 'year': 'nunique'})\n",
    "\n",
    "# Rename the columns for clarity\n",
    "country_stats.columns = ['QS proportion','Parties', 'Manifestos', 'Elections']\n",
    "\n",
    "# Reset index to make 'country' a regular column\n",
    "country_stats.reset_index(inplace=True)\n"
   ]
  },
  {
   "cell_type": "code",
   "execution_count": 21,
   "metadata": {},
   "outputs": [
    {
     "name": "stdout",
     "output_type": "stream",
     "text": [
      "Argentina & 15158 & 34 & 24 & 9 \\\\\n",
      "Australia & 53726 & 45 & 7 & 12 \\\\\n",
      "Austria & 43768 & 49 & 10 & 10 \\\\\n",
      "Belgium & 213978 & 82 & 22 & 8 \\\\\n",
      "Bolivia & 5187 & 6 & 4 & 2 \\\\\n",
      "Brazil & 37472 & 26 & 11 & 8 \\\\\n",
      "Bulgaria & 11799 & 23 & 13 & 5 \\\\\n",
      "Canada & 38574 & 37 & 8 & 9 \\\\\n",
      "Chile & 51692 & 27 & 15 & 7 \\\\\n",
      "Colombia & 16620 & 23 & 17 & 5 \\\\\n",
      "Costa Rica & 43530 & 29 & 8 & 8 \\\\\n",
      "Croatia & 27578 & 49 & 27 & 7 \\\\\n",
      "Cyprus & 10242 & 20 & 9 & 3 \\\\\n",
      "Czech Republic & 23762 & 31 & 13 & 5 \\\\\n",
      "Denmark & 22453 & 76 & 13 & 9 \\\\\n",
      "Dominican Republic & 14791 & 8 & 3 & 6 \\\\\n",
      "Ecuador & 11309 & 20 & 9 & 6 \\\\\n",
      "Estonia & 15133 & 24 & 8 & 5 \\\\\n",
      "Finland & 23761 & 61 & 10 & 8 \\\\\n",
      "France & 22218 & 44 & 16 & 6 \\\\\n",
      "Germany & 91572 & 47 & 10 & 9 \\\\\n",
      "Greece & 33401 & 49 & 16 & 7 \\\\\n",
      "Hungary & 42668 & 26 & 12 & 7 \\\\\n",
      "Ireland & 51672 & 48 & 15 & 7 \\\\\n",
      "Israel & 20267 & 42 & 17 & 8 \\\\\n",
      "Italy & 38304 & 68 & 42 & 7 \\\\\n",
      "Latvia & 1568 & 30 & 17 & 5 \\\\\n",
      "Lithuania & 41767 & 42 & 21 & 6 \\\\\n",
      "Luxembourg & 30017 & 17 & 6 & 3 \\\\\n",
      "Mexico & 25150 & 25 & 8 & 6 \\\\\n",
      "Netherlands & 145447 & 96 & 23 & 9 \\\\\n",
      "New Zealand & 44075 & 44 & 8 & 11 \\\\\n",
      "Norway & 96050 & 44 & 8 & 7 \\\\\n",
      "Panama & 18634 & 26 & 15 & 6 \\\\\n",
      "Poland & 28238 & 43 & 22 & 8 \\\\\n",
      "Portugal & 65185 & 41 & 12 & 8 \\\\\n",
      "Romania & 10456 & 29 & 18 & 6 \\\\\n",
      "Slovakia & 29031 & 45 & 20 & 9 \\\\\n",
      "Slovenia & 36396 & 41 & 15 & 5 \\\\\n",
      "Spain & 162408 & 104 & 35 & 9 \\\\\n",
      "Sweden & 25196 & 68 & 9 & 9 \\\\\n",
      "Switzerland & 18841 & 43 & 8 & 8 \\\\\n",
      "United Kingdom & 37636 & 41 & 11 & 7 \\\\\n",
      "United States & 23032 & 16 & 2 & 8 \\\\\n",
      "Uruguay & 11532 & 3 & 3 & 1 \\\\\n"
     ]
    }
   ],
   "source": [
    "for i,r in country_stats.iterrows():\n",
    "    print(f\"{r['country']} & {np.round(r['QS proportion'],4)} & {r['Manifestos']} & {r['Parties']} & {r['Elections']} \\\\\\\\\")"
   ]
  },
  {
   "cell_type": "markdown",
   "metadata": {},
   "source": []
  },
  {
   "cell_type": "code",
   "execution_count": 24,
   "metadata": {},
   "outputs": [
    {
     "name": "stdout",
     "output_type": "stream",
     "text": [
      "81711_202007_1420\n",
      "['Uložit  ćemo  45  milijuna  eura  u  akvakulturu  i  na  taj  način  povećati  proizvodnju  za oko 25%.']\n",
      "81711_202007_1421\n",
      "['Uložit ćemo u diversifikaciju i dodavanje više vrijednosti proizvodima ribarstva,']\n",
      "81711_202007_1422\n",
      "['a održivim upravljanjem resursima smanjit ćemo pritisak na raspoložive resurse bez restriktivnih mjera za naše ribare.']\n",
      "81711_202007_1423\n",
      "[]\n",
      "81711_202007_1424\n",
      "[]\n",
      "81711_202007_1425\n",
      "['i tranzicija na čistu energiju.']\n",
      "81711_202007_1426\n",
      "['Energetski sektor zadnjih godina bilježi velike promjene, prvenstveno vezane za nje- govu dekarbonizaciju']\n",
      "81711_202007_1427\n",
      "['i veće usmjeravanje na obnov- ljive izvore energije']\n",
      "81711_202007_1428\n",
      "['i korištenje čistih tehnologija.']\n",
      "81711_202007_1429\n",
      "['Europski zeleni plan, koji bi u sljedećih deset godi- na trebao mobilizirati najmanje tisuću milijardi eura ulaganja u zaštitu okoliša i klime, prilika je za ubr- zanu energetsku tranziciju Hrvatske prema čistim energijama.']\n",
      "81711_202007_1430\n",
      "['Naš je cilj da našem gospodarstvu kroz energetsku i ekološku tranziciju osiguramo kvalitet- niji i održiviji rast,']\n",
      "81711_202007_1431\n",
      "['našim građanima čišću i dostu- pniju energiju,']\n",
      "81711_202007_1432\n",
      "['a našoj djeci zdraviji okoliš i očuvan planet na kojemu će moći živjeti.']\n",
      "81711_202007_1433\n",
      "['Takvo promišljanje proizlazi i iz nužnosti smanjenja emisija stakleničkih plinova']\n",
      "81711_202007_1434\n",
      "['uz usporedno povećanje udjela obnovljivih izvora energije,']\n"
     ]
    }
   ],
   "source": [
    "# inspect samples\n",
    "\n",
    "x = '81711_202007_1425'\n",
    "end = int(x.split('_')[2])\n",
    "for i in range(end-5,end+10):\n",
    "    base = x.split('_')[0]+'_'+x.split('_')[1]\n",
    "    target = str(base)+'_'+str(i)\n",
    "    print(target)\n",
    "    #print(qs[qs['qs_id']==str(base)+'_0'+str(i)]['original_text'].tolist())\n",
    "    print(qs[qs['qs_id']==str(base)+'_'+str(i)]['original_text'].tolist())"
   ]
  },
  {
   "cell_type": "code",
   "execution_count": 37,
   "metadata": {},
   "outputs": [],
   "source": [
    "# look at green party qs"
   ]
  },
  {
   "cell_type": "code",
   "execution_count": 38,
   "metadata": {},
   "outputs": [
    {
     "data": {
      "text/plain": [
       "parfam_name\n",
       "SOC    376363\n",
       "CON    266085\n",
       "LIB    236669\n",
       "LEF    227758\n",
       "CHR    213840\n",
       "ECO    155948\n",
       "NAT    131235\n",
       "ETH    122987\n",
       "SIP     60516\n",
       "AGR     34314\n",
       "MI       2991\n",
       "DIV      2588\n",
       "Name: count, dtype: int64"
      ]
     },
     "execution_count": 38,
     "metadata": {},
     "output_type": "execute_result"
    }
   ],
   "source": [
    "qs.parfam_name.value_counts()"
   ]
  },
  {
   "cell_type": "code",
   "execution_count": 43,
   "metadata": {},
   "outputs": [],
   "source": [
    "eco = qs.query('parfam_name == \"ECO\"')"
   ]
  },
  {
   "cell_type": "code",
   "execution_count": 48,
   "metadata": {},
   "outputs": [
    {
     "data": {
      "text/plain": [
       "['Unser Alternativvorschlag: Ausbau der Verbindung Hamburg–Berlin zu einer ICE-Strecke',\n",
       " 'Zlepšení ovzduší ve městech a zároveň snížení závislosti na ropě chceme dosáhnout preferencí dopravy v\\xa0elektrické trakci – tramvají, trolejbusů a městských vlaků.',\n",
       " 'On aeg alustada ulatuslike investeerimistoetustega soojus- ja elektrienergia tootmiseks kodude, koolide, haiglate ja muude avalike asutuste juures, finantsallikaks kasutades ennekõike CO2 kaubandusest saadavat tulu.',\n",
       " '(5) aanpassing van het Stabiliteitspact in ecologische zin.',\n",
       " 'Ezen belül azonban a téli időszakban a csapadék mennyisége nő, miközben nyáron jelentősen csökken.',\n",
       " 'en voorkomen we aardbevingen in Groningen.',\n",
       " 'A partir de este punto, la producción comenzó a declinar hasta alcanzar 2,548 mil barriles por día (Mbd) en 2012, de los cuales 54% correspondió a crudo pesado, 33% crudo ligero y 13% superligero.',\n",
       " 'Or, toute notre économie dépend actuellement des énergies fossiles.',\n",
       " 'La política productiva se adelantará en el marco de la sostenibilidad ambiental, la protección de la biodiversidad y las fuentes de agua, y la generación de un modelo productivo de bajo contenido de carbono con el fin de contribuir a la mitigación del calentamiento global.',\n",
       " 'Ein neues Klimaabkommen muss auf einem gerechten Ausgleich zwischen Nord und Süd beruhen.']"
      ]
     },
     "execution_count": 48,
     "metadata": {},
     "output_type": "execute_result"
    }
   ],
   "source": [
    "eco.query('climate == 1').sample(10, random_state=50).original_text.tolist()"
   ]
  },
  {
   "cell_type": "code",
   "execution_count": 49,
   "metadata": {},
   "outputs": [],
   "source": [
    "rt = qs.query('parfam_name == \"CON\" | parfam_name == \"NAT\"')"
   ]
  },
  {
   "cell_type": "code",
   "execution_count": 50,
   "metadata": {},
   "outputs": [
    {
     "data": {
      "text/plain": [
       "(397320, 20)"
      ]
     },
     "execution_count": 50,
     "metadata": {},
     "output_type": "execute_result"
    }
   ],
   "source": [
    "rt.shape"
   ]
  },
  {
   "cell_type": "code",
   "execution_count": 53,
   "metadata": {},
   "outputs": [
    {
     "data": {
      "text/plain": [
       "['We oppose federal funding of embryonic stem cell research.',\n",
       " 'Fremskritts-partiet mener det må være opp til utbygger  selv å bestemme om man i et kvotesystem  ønsker å implementere CO2 -håndterings-teknologi eller kjøpe utslippskvoter for å  møte eventuelle utslippskrav.',\n",
       " 'Nasza wizja rozwoju energetyki jest oparta na trzech filarach: Bezpieczeństwo dostaw energii',\n",
       " '7.5 Povečali bomo učinkovitost rabe energije',\n",
       " 'Samtidigt är det viktigt att kontinuerligt analysera den framtida kostnadsutvecklingen för elcertifikaten',\n",
       " '342.Reforzaremos las funciones de vigilancia de la competencia de los mercados energéticos correspondientes a los organismos independientes y la Administración General del Estado.',\n",
       " 'Toinen kummajainen YK:n ilmastopolitiikassa on ns. teollisuusmaiden omantunnonrahaston kerääminen.',\n",
       " 'Continue our $347 million Warm Up New Zealand: Heat Smart scheme to retrofit at least 188,500 privately owned homes.',\n",
       " 'Warm Up  New Zealand: Heat Smart:  Upgrade  188,500  homes with insulation and/or clean heating devices.',\n",
       " 'Impulsaremos el trabajo legislativo en las negociaciones del Presupuesto de Egresos de la Federación de los siguientes Ejercicio Fiscales, para que se destinen mayores recursos a la infraestructura hidráulica del país.']"
      ]
     },
     "execution_count": 53,
     "metadata": {},
     "output_type": "execute_result"
    }
   ],
   "source": [
    "rt.query('climate == 1').sample(10, random_state=30).original_text.tolist()"
   ]
  },
  {
   "cell_type": "code",
   "execution_count": 52,
   "metadata": {},
   "outputs": [
    {
     "data": {
      "text/html": [
       "<div>\n",
       "<style scoped>\n",
       "    .dataframe tbody tr th:only-of-type {\n",
       "        vertical-align: middle;\n",
       "    }\n",
       "\n",
       "    .dataframe tbody tr th {\n",
       "        vertical-align: top;\n",
       "    }\n",
       "\n",
       "    .dataframe thead th {\n",
       "        text-align: right;\n",
       "    }\n",
       "</style>\n",
       "<table border=\"1\" class=\"dataframe\">\n",
       "  <thead>\n",
       "    <tr style=\"text-align: right;\">\n",
       "      <th></th>\n",
       "      <th>qs_id</th>\n",
       "      <th>party</th>\n",
       "      <th>country</th>\n",
       "      <th>year</th>\n",
       "      <th>edate</th>\n",
       "      <th>language</th>\n",
       "      <th>cmp_code_clean</th>\n",
       "      <th>climate</th>\n",
       "      <th>partyname</th>\n",
       "      <th>manifesto_id</th>\n",
       "      <th>parfam</th>\n",
       "      <th>parfam_name</th>\n",
       "      <th>original_text</th>\n",
       "      <th>prob_climate</th>\n",
       "      <th>iso3</th>\n",
       "      <th>text_en</th>\n",
       "      <th>word_count</th>\n",
       "      <th>cmp_code_orig</th>\n",
       "      <th>partyabbrev</th>\n",
       "      <th>keep</th>\n",
       "    </tr>\n",
       "  </thead>\n",
       "  <tbody>\n",
       "    <tr>\n",
       "      <th>1638218</th>\n",
       "      <td>61620_200811_0736</td>\n",
       "      <td>61620</td>\n",
       "      <td>United States</td>\n",
       "      <td>2008</td>\n",
       "      <td>200811</td>\n",
       "      <td>english</td>\n",
       "      <td>501.0</td>\n",
       "      <td>1.0</td>\n",
       "      <td>Republican Party</td>\n",
       "      <td>61620_200811</td>\n",
       "      <td>60</td>\n",
       "      <td>CON</td>\n",
       "      <td>By increasing our American energy supply and d...</td>\n",
       "      <td>0.9992985917123008</td>\n",
       "      <td>USA</td>\n",
       "      <td>NaN</td>\n",
       "      <td>36</td>\n",
       "      <td>501.0</td>\n",
       "      <td>Republicans</td>\n",
       "      <td>1</td>\n",
       "    </tr>\n",
       "  </tbody>\n",
       "</table>\n",
       "</div>"
      ],
      "text/plain": [
       "                     qs_id  party        country  year   edate language  \\\n",
       "1638218  61620_200811_0736  61620  United States  2008  200811  english   \n",
       "\n",
       "        cmp_code_clean  climate         partyname  manifesto_id  parfam  \\\n",
       "1638218          501.0      1.0  Republican Party  61620_200811      60   \n",
       "\n",
       "        parfam_name                                      original_text  \\\n",
       "1638218         CON  By increasing our American energy supply and d...   \n",
       "\n",
       "               prob_climate iso3 text_en  word_count cmp_code_orig  \\\n",
       "1638218  0.9992985917123008  USA     NaN          36         501.0   \n",
       "\n",
       "         partyabbrev  keep  \n",
       "1638218  Republicans     1  "
      ]
     },
     "execution_count": 52,
     "metadata": {},
     "output_type": "execute_result"
    }
   ],
   "source": [
    "qs[qs['original_text']=='By increasing our American energy supply and decreasing the long term demand for oil, we will be well positioned to address the challenge of climate change and continue our longstanding responsibility for stewardship over the environment.']"
   ]
  },
  {
   "cell_type": "code",
   "execution_count": null,
   "metadata": {},
   "outputs": [],
   "source": []
  }
 ],
 "metadata": {
  "kernelspec": {
   "display_name": "Python 3",
   "language": "python",
   "name": "python3"
  },
  "language_info": {
   "codemirror_mode": {
    "name": "ipython",
    "version": 3
   },
   "file_extension": ".py",
   "mimetype": "text/x-python",
   "name": "python",
   "nbconvert_exporter": "python",
   "pygments_lexer": "ipython3",
   "version": "3.10.11"
  }
 },
 "nbformat": 4,
 "nbformat_minor": 2
}
